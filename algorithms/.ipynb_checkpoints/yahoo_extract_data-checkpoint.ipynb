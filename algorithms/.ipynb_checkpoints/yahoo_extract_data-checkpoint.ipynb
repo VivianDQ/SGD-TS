{
 "cells": [
  {
   "cell_type": "code",
   "execution_count": 2,
   "metadata": {},
   "outputs": [],
   "source": [
    "import pandas as pd\n",
    "import numpy as np\n",
    "import time\n",
    "from collections import defaultdict\n",
    "import gzip\n",
    "import matplotlib\n",
    "import matplotlib.pyplot as plot\n",
    "import math\n",
    "import pickle"
   ]
  },
  {
   "cell_type": "code",
   "execution_count": 9,
   "metadata": {},
   "outputs": [],
   "source": [
    "from sgd_ts import SGD_TS\n",
    "from UCB import UCB\n",
    "from laplace_ts import LAPLACE_TS\n",
    "from gloc import GLOC\n",
    "# from ..data_processor.algorithms.tune import GridSearch\n",
    "\n",
    "from data_processor.data_generator import context, reward_model, Gradient"
   ]
  },
  {
   "cell_type": "code",
   "execution_count": null,
   "metadata": {},
   "outputs": [],
   "source": []
  },
  {
   "cell_type": "code",
   "execution_count": 3,
   "metadata": {},
   "outputs": [
    {
     "name": "stdout",
     "output_type": "stream",
     "text": [
      "ydata-fp-td-clicks-v1_0.20090501 0 0 212.98678827285767\n",
      "ydata-fp-td-clicks-v1_0.20090502 0 0 157.96023988723755\n",
      "ydata-fp-td-clicks-v1_0.20090503 0 0 181.15293288230896\n",
      "ydata-fp-td-clicks-v1_0.20090504 0 0 248.0007300376892\n",
      "ydata-fp-td-clicks-v1_0.20090505 0 0 242.2722201347351\n",
      "ydata-fp-td-clicks-v1_0.20090506 0 0 238.99979376792908\n",
      "ydata-fp-td-clicks-v1_0.20090507 0 0 233.827143907547\n",
      "ydata-fp-td-clicks-v1_0.20090508 0 0 215.56180810928345\n",
      "ydata-fp-td-clicks-v1_0.20090509 0 0 158.46759700775146\n",
      "ydata-fp-td-clicks-v1_0.20090510 0 0 170.7340657711029\n"
     ]
    }
   ],
   "source": [
    "def extract_data():\n",
    "    ar = set()\n",
    "    tm = set()\n",
    "    count = dict()\n",
    "    article_idx = dict()\n",
    "\n",
    "    reward = []\n",
    "    arm_idx = []\n",
    "    fv = [] \n",
    "    filename = ['ydata-fp-td-clicks-v1_0.2009050' + str(i) for i in list(range(1,10))] + ['ydata-fp-td-clicks-v1_0.20090510']\n",
    "    c = 0\n",
    "    prevt = 0\n",
    "    tc = -1\n",
    "    lc = 0\n",
    "    for fn in filename:\n",
    "        t0 = time.time()\n",
    "        print(fn, end = \" \")\n",
    "        with gzip.open('../data/yahoo_data/' + fn + '.gz', \"r\") as f:\n",
    "            for line in f:\n",
    "                lines = line.split(b\"|\")\n",
    "                t, article, click = list(map(int, lines[0].strip().split(b\" \")))[:3] \n",
    "\n",
    "                if t != prevt:\n",
    "                    tc += 1\n",
    "                    prevt = t\n",
    "                    fv.append(defaultdict(np.array))\n",
    "                    reward.append(dict())\n",
    "                    count = dict()\n",
    "                    arm_idx.append(set())\n",
    "                for i in range(2, len(lines)):\n",
    "                    a = lines[i].strip().split(b\" \")\n",
    "                    if int(a[1].split(b':')[0]) > 6: \n",
    "                        continue\n",
    "                    ar_id = int(a[0])\n",
    "                    if ar_id not in article_idx:\n",
    "                        article_idx[ar_id] = c\n",
    "                        c += 1\n",
    "                    arm_idx[tc].add(article_idx[ar_id])\n",
    "                    if article_idx[ar_id] in fv[tc]: continue\n",
    "                    vec = np.zeros(6)\n",
    "                    flag = True\n",
    "                    for s in a[1:]:\n",
    "                        if int(s.split(b\":\")[0]) > 6:\n",
    "                            flag = False\n",
    "                            break\n",
    "                        vec[int(s.split(b\":\")[0])-1] = float(s.split(b\":\")[1])\n",
    "                    if flag:\n",
    "                        fv[tc][article_idx[ar_id]] = vec \n",
    "                if article not in article_idx: continue\n",
    "                idx = article_idx[article]\n",
    "                if idx in reward[tc]:\n",
    "                    reward[tc][idx] = (reward[tc][idx] * count[idx] + click) / (count[idx]+1)\n",
    "                    count[idx] += 1\n",
    "                else:\n",
    "                    count[idx] = 1\n",
    "                    reward[tc][idx] = click\n",
    "        print(time.time()-t0)"
   ]
  },
  {
   "cell_type": "code",
   "execution_count": 19,
   "metadata": {},
   "outputs": [],
   "source": [
    "def save_data():\n",
    "    features = []\n",
    "    rewards = []\n",
    "    T = len(fv)\n",
    "    for t in range(T):\n",
    "        curarm = list(arm_idx[t])\n",
    "        fvv = []\n",
    "        rew = []\n",
    "        for arm in curarm:\n",
    "            # print(t,arm)\n",
    "            fvv += [fv[t][arm]]\n",
    "            rew += [reward[t][arm]]\n",
    "        features.append(fvv)\n",
    "        rewards.append(rew)\n",
    "    # this gives us two variables\n",
    "    # features[t]: it contains features for arms only valid at time t, changing all the time, from 0-20 maybe\n",
    "    # rewards[t]: it contains reward for arms only valid at time t, changing all the time, from 0-20 maybe\n",
    "    \n",
    "    with open('../data/yahoo_data/rewards.txt', 'wb') as f:\n",
    "        pickle.dump(rewards, f)\n",
    "    with open('../data/yahoo_data/features.txt', 'wb') as f:\n",
    "        pickle.dump(features, f)"
   ]
  },
  {
   "cell_type": "code",
   "execution_count": 32,
   "metadata": {},
   "outputs": [],
   "source": []
  }
 ],
 "metadata": {
  "kernelspec": {
   "display_name": "Python 3",
   "language": "python",
   "name": "python3"
  },
  "language_info": {
   "codemirror_mode": {
    "name": "ipython",
    "version": 3
   },
   "file_extension": ".py",
   "mimetype": "text/x-python",
   "name": "python",
   "nbconvert_exporter": "python",
   "pygments_lexer": "ipython3",
   "version": "3.6.10"
  }
 },
 "nbformat": 4,
 "nbformat_minor": 2
}
